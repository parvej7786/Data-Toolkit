{
  "nbformat": 4,
  "nbformat_minor": 0,
  "metadata": {
    "colab": {
      "provenance": []
    },
    "kernelspec": {
      "name": "python3",
      "display_name": "Python 3"
    },
    "language_info": {
      "name": "python"
    }
  },
  "cells": [
    {
      "cell_type": "markdown",
      "source": [
        "Data Toolkit"
      ],
      "metadata": {
        "id": "eb2hAjoW5jER"
      }
    },
    {
      "cell_type": "markdown",
      "source": [
        "1. A What is NumPy, and why is it widely used in Python?\n",
        "-> NumPy, short for Numerical Python, is a fundamental library for numerical and scientific computing in Python. It provides support for multi-dimensional arrays and matrices, along with a collection of mathematical functions to operate on these arrays efficiently.\n",
        "NumPy is widely used for several reasons:\n",
        "Efficiency:\n",
        "NumPy arrays are stored contiguously in memory, allowing for faster access and manipulation compared to Python lists. This is crucial for handling large datasets.\n",
        "Functionality:\n",
        "NumPy offers a wide range of built-in functions for linear algebra, Fourier transforms, random number generation, and more, making it a versatile tool for various scientific and engineering applications.\n",
        "Integration:\n",
        "NumPy seamlessly integrates with other popular Python libraries like SciPy, pandas, and scikit-learn, forming the basis of a powerful ecosystem for data analysis and machine learning.\n",
        "Simplicity:\n",
        "NumPy's syntax is concise and intuitive, making it easy to work with arrays and perform complex calculations with minimal code.\n",
        "Due to these advantages, NumPy is an indispensable tool for data scientists, researchers, and engineers working with numerical data in Python.\n",
        "\n",
        "2. How does broadcasting work in NumPy?\n",
        "->NumPy v2.2 Manual - Home\n",
        "NumPy user guide\n",
        "NumPy fundamentals\n",
        "Broadcasting\n",
        "Broadcasting\n",
        "See also\n",
        "\n",
        "numpy.broadcast\n",
        "\n",
        "The term broadcasting describes how NumPy treats arrays with different shapes during arithmetic operations. Subject to certain constraints, the smaller array is “broadcast” across the larger array so that they have compatible shapes. Broadcasting provides a means of vectorizing array operations so that looping occurs in C instead of Python. It does this without making needless copies of data and usually leads to efficient algorithm implementations. There are, however, cases where broadcasting is a bad idea because it leads to inefficient use of memory that slows computation.\n",
        "\n",
        "NumPy operations are usually done on pairs of arrays on an element-by-element basis. In the simplest case, the two arrays must have exactly the same shape\n",
        "\n",
        "3. A What is a Pandas DataFrame?\n",
        "->Pandas DataFrame is a two-dimensional, size-mutable data structure with labeled rows and columns. It is a fundamental data structure in the Pandas library, widely used for data manipulation and analysis in Python. Resembling a table or spreadsheet, a DataFrame organizes data into rows and columns, where each column can hold a different data type (numeric, string, boolean, etc.).\n",
        "DataFrames can be created from various sources, including: Dictionaries of lists or arrays, NumPy arrays, CSV or other delimited files, and SQL databases.\n",
        "They provide a powerful and flexible way to represent and manipulate structured data, offering functionalities such as:\n",
        "Data selection and filtering\n",
        "Data cleaning and transformation\n",
        "Data aggregation and grouping\n",
        "Merging and joining data\n",
        "Handling missing values\n",
        "Time series analysis\n",
        "\n",
        "4. Explain the use of the groupby() method in PandasA.\n",
        "->The groupby() method in pandas is used to group rows in a DataFrame based on the values of one or more columns. This allows for the application of aggregate functions, transformations, or filters to these groups. The groupby() method follows the \"split-apply-combine\" strategy. It splits the DataFrame into groups, applies a function to each group independently, and then combines the results into a new DataFrame or Series.\n",
        "\n",
        "\n",
        "5. Why is Seaborn preferred for statistical visualizations?\n",
        "->Seaborn is more than just a tool for creating attractive plots—it's a gateway to understanding data. Its ability to simplify statistical plotting, integrate with pandas, and support a wide range of customization options makes it an essential library for anyone involved in data analysis and visualization.\n",
        "\n",
        "6. What are the differences between NumPy arrays and Python lists?\n",
        "->Here's a comparison of NumPy arrays and Python lists:\n",
        "Data Type:\n",
        "Python lists can store elements of different data types, while NumPy arrays require all elements to be of the same data type.\n",
        "Memory Efficiency:\n",
        "NumPy arrays are more memory-efficient than Python lists because they store elements in contiguous memory blocks and use fixed data types.\n",
        "Size:\n",
        "NumPy arrays have a fixed size upon creation, whereas Python lists can dynamically grow or shrink.\n",
        "Computational Efficiency:\n",
        "NumPy arrays are optimized for numerical operations and support vectorized operations, making them significantly faster than Python lists for mathematical computations.\n",
        "Functionality:\n",
        "NumPy provides a wide range of built-in functions for array manipulation, mathematical operations, and data analysis, while Python lists have fewer built-in functionalities.\n",
        "Mutability:\n",
        "Both Python lists and NumPy arrays are mutable, meaning their elements can be modified after creation.\n",
        "Indexing and Slicing:\n",
        "Both support indexing and slicing for accessing and modifying subsets of data.\n",
        "Import Requirement:\n",
        "NumPy arrays require importing the NumPy library, while Python lists are a built-in data structure.\n",
        "Use Cases:\n",
        "Python lists are suitable for general-purpose tasks and storing heterogeneous data, while NumPy arrays are ideal for numerical computing, data analysis, and scientific applications.\n",
        "Memory Allocation:\n",
        "NumPy allocates memory in a contiguous block, while Python lists allocate memory dynamically as elements are added or removed.\n",
        "Arithmetic Operations:\n",
        "NumPy arrays support direct arithmetic operations, while Python lists do not.\n",
        "Speed:\n",
        "NumPy arrays are faster for numerical computations due to optimized operations and contiguous memory storage.Here's a comparison of NumPy arrays and Python lists:\n",
        "Data Type:\n",
        "Python lists can store elements of different data types, while NumPy arrays require all elements to be of the same data type.\n",
        "Memory Efficiency:\n",
        "NumPy arrays are more memory-efficient than Python lists because they store elements in contiguous memory blocks and use fixed data types.\n",
        "Size:\n",
        "NumPy arrays have a fixed size upon creation, whereas Python lists can dynamically grow or shrink.\n",
        "Computational Efficiency:\n",
        "NumPy arrays are optimized for numerical operations and support vectorized operations, making them significantly faster than Python lists for mathematical computations.\n",
        "Functionality:\n",
        "NumPy provides a wide range of built-in functions for array manipulation, mathematical operations, and data analysis, while Python lists have fewer built-in functionalities.\n",
        "Mutability:\n",
        "Both Python lists and NumPy arrays are mutable, meaning their elements can be modified after creation.\n",
        "Indexing and Slicing:\n",
        "Both support indexing and slicing for accessing and modifying subsets of data.\n",
        "Import Requirement:\n",
        "NumPy arrays require importing the NumPy library, while Python lists are a built-in data structure.\n",
        "Use Cases:\n",
        "Python lists are suitable for general-purpose tasks and storing heterogeneous data, while NumPy arrays are ideal for numerical computing, data analysis, and scientific applications.\n",
        "Memory Allocation:\n",
        "NumPy allocates memory in a contiguous block, while Python lists allocate memory dynamically as elements are added or removed.\n",
        "Arithmetic Operations:\n",
        "NumPy arrays support direct arithmetic operations, while Python lists do not.\n",
        "Speed:\n",
        "NumPy arrays are faster for numerical computations due to optimized operations and contiguous memory storage.\n",
        "\n",
        "7. What is a heatmap, and when should it be used?\n",
        "->heatmap is a data visualization technique that uses color-coding to represent the magnitude of a variable across two dimensions. It's often used to visualize user behavior on websites, showing where users click, scroll, or hover, or to represent patterns in data like population density or temperatures.\n",
        "Here's a more detailed explanation:\n",
        "What it is:\n",
        "Heatmaps use a color gradient to show how a variable changes across different areas or categories. For example, a website heatmap might use warmer colors to indicate areas where users click more frequently, while cooler colors represent areas with less interaction.\n",
        "\n",
        "8. What does the term “vectorized operation” mean in NumPy?\n",
        "->Vectorized operations using NumPy are significantly quicker and more efficient than using for-loops. Vectorization is the conversion of a scalar operation on individual data elements to an operation in which a single instruction simultaneously acts on multiple data elements.10 Mar 2023\n",
        "\n",
        "9. How does Matplotlib differ from Plotly?\n",
        "->Matplotlib: Is often preferred for academic or highly customized plots because you can fine-tune just about any aspect of the figure—fonts, margins, axis scales, etc. Plotly: While still highly customizable, Plotly's real strength lies in interactivity and web-based visuals.\n",
        "\n",
        "\n",
        "10. What is the significance of hierarchical indexing in Panda?\n",
        "->Hierarchical indexing, also known as MultiIndexing, is a crucial feature in pandas that enables the representation of higher-dimensional data within lower-dimensional data structures like Series (1D) and DataFrames (2D). Its significance lies in its ability to enhance data organization, manipulation, and analysis, especially when dealing with complex datasets.\n",
        "Hierarchical indexing facilitates the structuring of data into groups and subgroups, allowing for more intuitive data querying, slicing, and aggregation. It simplifies the process of working with multi-dimensional data by providing a way to represent it within the confines of a DataFrame or Series. This is particularly useful when dealing with data that has multiple levels of categorization, such as time series data with date and time components, or geographical data with region and city information.\n",
        "Furthermore, hierarchical indexing optimizes data retrieval and manipulation. By creating a multi-level index, specific subsets of data can be accessed and modified efficiently using methods like .loc[] and .iloc[]. This allows for more targeted data analysis and reduces the need for complex filtering operations.\n",
        "Hierarchical indexing also plays a vital role in advanced data analysis tasks such as grouping and pivoting. It enables the calculation of summary statistics and the reshaping of data based on multiple index levels, providing deeper insights into the underlying data structure and relationships.\n",
        "\n",
        "11. What is the role of Seaborn’s pairplot() function?\n",
        "->The pairplot() function in the Seaborn library serves to visualize relationships between pairs of variables in a dataset. It generates a matrix of subplots, where each subplot shows the relationship between two different variables. On the diagonal, it typically displays the distribution of a single variable, while the off-diagonal subplots show the relationship between two different variables, often as scatter plots.\n",
        "The primary role of pairplot() is to facilitate exploratory data analysis (EDA) by providing a quick overview of the dataset's structure and relationships. It can help identify potential correlations, patterns, and outliers, aiding in feature selection and model building. The hue parameter can be used to add a third dimension to the visualization, coloring points by a categorical variable.The pairplot() function in the Seaborn library serves to visualize relationships between pairs of variables in a dataset. It generates a matrix of subplots, where each subplot shows the relationship between two different variables. On the diagonal, it typically displays the distribution of a single variable, while the off-diagonal subplots show the relationship between two different variables, often as scatter plots.\n",
        "The primary role of pairplot() is to facilitate exploratory data analysis (EDA) by providing a quick overview of the dataset's structure and relationships. It can help identify potential correlations, patterns, and outliers, aiding in feature selection and model building. The hue parameter can be used to add a third dimension to the visualization, coloring points by a categorical variable.\n",
        "\n",
        "\n",
        "12. What is the purpose of the describe() function in Pandas?\n",
        "->The describe() function in Pandas provides descriptive statistics summarizing the central tendency, dispersion, and shape of a dataset's distribution. It analyzes both numeric and object series, as well as DataFrame column sets of mixed data types, excluding NaN values by default.\n",
        "For numeric data, describe() calculates:\n",
        "count: Number of non-null values.\n",
        "mean: Average value.\n",
        "std: Standard deviation.\n",
        "min: Minimum value.\n",
        "25%: First quartile (25th percentile).\n",
        "50%: Second quartile (median, 50th percentile).\n",
        "75%: Third quartile (75th percentile).\n",
        "max: Maximum value.\n",
        "For object or categorical data, it calculates:\n",
        "count: Number of non-null values.\n",
        "unique: Number of unique values.\n",
        "top: Most frequent value.\n",
        "freq: Frequency of the most frequent value.\n",
        "The output of describe() is a new DataFrame or Series containing these statistics, providing a concise overview of the data's characteristics.\n",
        "\n",
        "13. Why is handling missing data important in Pandas?\n",
        "->Handling missing data in Pandas is important because it ensures the accuracy and reliability of data analysis and modeling. Missing values, often represented as NaN, can arise from various sources such as data entry errors, incomplete data collection, or data corruption. If not addressed properly, these missing values can lead to several problems:\n",
        "Skewed Analysis:\n",
        "Missing data can distort statistical measures and lead to incorrect conclusions.\n",
        "Biased Models:\n",
        "Many machine learning algorithms cannot handle missing values directly, and their presence can result in biased or inaccurate models.\n",
        "Reduced Statistical Power:\n",
        "Missing data reduces the sample size, which in turn decreases the statistical power of any analysis.\n",
        "Errors and Exceptions:\n",
        "Operations on data with missing values can sometimes result in errors or unexpected behavior.\n",
        "Pandas provides several tools for identifying and handling missing data, including:\n",
        "isna() and isnull(): To detect missing values.\n",
        "dropna(): To remove rows or columns with missing values.\n",
        "fillna(): To replace missing values with a specified value or using an imputation method.\n",
        "replace(): To replace missing values with a specified value or string.\n",
        "By effectively handling missing data, analysts can ensure the quality and integrity of their datasets, leading to more accurate and reliable results.\n",
        "\n",
        "14. What are the benefits of using Plotly for data visualization?\n",
        "->Over 40 different types of graph can be created, ranging from classic graphs to interactive, animated and 3D graphs. In addition to its ease of use and ability to customize graphs, another major advantage of Plotly is its ability to detect outliers in even the largest databases.\n",
        "\n",
        "15. How does NumPy handle multidimensional arrays?\n",
        "->NumPy handles multidimensional arrays, also known as ndarrays, as a grid of values, all of the same type, and indexed by a tuple of non-negative integers. The dimensions are called axes, and the number of axes is the rank. For instance, a 2D array is a matrix, with rows and columns as axes.\n",
        "Internally, NumPy stores ndarray data in a contiguous block of memory, as a 1D array. It uses metadata, including shape and strides, to map indices to memory locations efficiently. Strides define the number of bytes to step in each dimension when traversing the array. This allows for efficient operations, as data access is optimized.\n",
        "NumPy provides various functions for creating, manipulating, and performing calculations on multidimensional arrays, making it a powerful tool for scientific computing and data analysis.\n",
        "\n",
        "\n",
        "16. What is the role of Bokeh in data visualization?\n",
        "->Bokeh is a Python library primarily used for creating interactive data visualizations, especially those targeting modern web browsers. It's distinguished by its ability to render plots using HTML and JavaScript, enabling dynamic and engaging visualizations. Bokeh is well-suited for building web-based dashboards, applications, and exploring data interactively.\n",
        "Here's a more detailed look at its role:\n",
        "Interactive Visualizations:\n",
        "Bokeh allows users to create charts and plots that respond to user interactions, such as zooming, panning, selecting data points, and using widgets.\n",
        "Web-Based Applications:\n",
        "Its HTML/JavaScript rendering makes Bokeh ideal for building web-based data visualization applications and dashboards.\n",
        "High-Performance:\n",
        "Bokeh is designed for high-performance visualizations, including those with large datasets.\n",
        "Customizable and Flexible:\n",
        "Bokeh provides a range of options for customizing visualizations, from basic plots to complex, custom layouts.\n",
        "Integration with PyData Tools:\n",
        "Bokeh integrates well with other popular PyData tools like Pandas and Jupyter notebooks, facilitating easy data preparation and visualization.\n",
        "Shareability:\n",
        "Bokeh visualizations can be easily shared or embedded in reports and applications.\n",
        "\n",
        "17. Explain the difference between apply() and map() in Pandas.\n",
        "->map() and apply() in pandas are both used to apply a function to a Series or DataFrame, but they operate differently:\n",
        "map(): This method works on a Series and applies a function element-wise. It's ideal for simple transformations where each value in a Series is independently modified based on a mapping or a function. It accepts a function, a dictionary, or a Series for mapping values.\n",
        "apply(): This method can be used on both Series and DataFrames. When used on a Series, it behaves similarly to map() but provides more flexibility, allowing for more complex operations and the passing of additional arguments to the function. When used on a DataFrame, apply() operates on rows or columns, depending on the axis parameter. In essence, map() is best for simple, element-wise transformations on a Series, while apply() offers greater versatility for more complex operations on both Series and DataFrames, including row/column-wise operations and element-wise operations via applymap().\n",
        "\n",
        "18. What are some advanced features of NumPy?\n",
        "->NumPy offers several advanced features beyond basic array manipulation, including universal functions (ufuncs), broadcasting, masking, fancy indexing, array sorting, and stacking/splitting. These features enable efficient and versatile operations on NumPy arrays.\n",
        "1. Universal Functions (ufuncs):\n",
        "Ufuncs are functions that operate on arrays element-wise, providing a way to execute mathematical, logical, and other operations efficiently.\n",
        "They support a wide range of arithmetic operations (addition, subtraction, multiplication, division, etc.) and other mathematical functions.\n",
        "Example: np.add(a, b) adds two arrays element-wise.\n",
        "2. Broadcasting:\n",
        "Broadcasting allows NumPy to perform operations on arrays of different shapes, automatically aligning dimensions without creating new arrays.\n",
        "It provides a way to vectorize array operations, avoiding explicit loops and improving performance.\n",
        "Example: Adding a scalar to an array, where the scalar is \"broadcast\" to each element of the array.\n",
        "3. Masking:\n",
        "Masking involves creating a boolean array (mask) to select specific elements of an array for operations or analysis.\n",
        "Elements corresponding to True values in the mask are selected, while those corresponding to False are ignored.\n",
        "Example: Selecting all elements greater than a certain threshold. etc\n",
        "\n",
        "\n",
        "19. How does Pandas simplify time series analysis?\n",
        "->Pandas streamlines time series analysis through specialized data structures and functionalities:\n",
        "Datetime Indexing:\n",
        "Pandas uses DatetimeIndex to efficiently handle and manipulate time-based data. This allows for easy selection, slicing, and filtering of data by date or time ranges.\n",
        "Time Series-Specific Functions:\n",
        "It offers built-in functions for common time series operations like:\n",
        "Resampling: Changing the frequency of data (e.g., from daily to monthly).\n",
        "Rolling Windows: Calculating statistics (e.g., moving averages) over a sliding window of time.\n",
        "Shifting: Moving data points forward or backward in time.\n",
        "Differencing: Calculating the difference between consecutive data points, useful for identifying trends and seasonality.\n",
        "\n",
        "20. What is the role of a pivot table in Pandas?\n",
        "->The role of a pivot table in pandas, similar to its function in spreadsheet software, is to reshape and summarize data within a DataFrame. It enables users to transform data from a long format to a more readable wide format, facilitating data analysis and pattern identification. Pivot tables group data by one or more columns, and apply aggregation functions like sum, mean, or count, to provide a concise summary. This functionality is particularly useful for handling large datasets with numerous columns, allowing for customization of rows and columns, and filtering and sorting of data.\n",
        "\n",
        "21. Why is NumPy,s array slicing faster than Python,s list slicing?\n",
        "->NumPy's array slicing operation is faster than Python's list slicing due to how data is stored and accessed in memory. NumPy arrays store elements of the same data type contiguously in memory, allowing for efficient access and manipulation. When slicing a NumPy array, a view or shallow copy is returned, which means no new data is copied unless explicitly requested. This direct access to the data in memory, combined with optimized C implementations, makes NumPy slicing significantly faster.\n",
        "In contrast, Python lists store elements as pointers to objects scattered in memory. When slicing a list, a new list object is created, and the elements are copied to the new list. This copying process adds overhead, making list slicing slower, especially for large lists.\n",
        "22. What are some common use cases for Seaborn?\n",
        "->\n",
        "\n",
        "\n"
      ],
      "metadata": {
        "id": "KLT0UPvH5pL5"
      }
    },
    {
      "cell_type": "markdown",
      "source": [
        "Practical"
      ],
      "metadata": {
        "id": "uKc7HCam_N8f"
      }
    },
    {
      "cell_type": "code",
      "source": [
        "import numpy as np\n",
        "arr = np.array([[1, 2, 3],\n",
        "                [4, 5, 6],\n",
        "                [7, 8, 9]])\n",
        "row_sums = np.sum(arr, axis=1)\n",
        "print(row_sums)"
      ],
      "metadata": {
        "colab": {
          "base_uri": "https://localhost:8080/"
        },
        "id": "8CN47yVh_IY4",
        "outputId": "c0c94505-227a-497d-ab9e-75f3c410b969"
      },
      "execution_count": 1,
      "outputs": [
        {
          "output_type": "stream",
          "name": "stdout",
          "text": [
            "[ 6 15 24]\n"
          ]
        }
      ]
    },
    {
      "cell_type": "code",
      "source": [
        "import pandas as pd\n",
        "\n",
        "# Example DataFrame\n",
        "df = pd.DataFrame({\n",
        "    'Column1': [10, 20, 30, 40, 50],\n",
        "    'Column2': [5, 15, 25, 35, 45]\n",
        "})\n",
        "\n",
        "# Replace 'Column1' with the name of your specific column\n",
        "mean_value = df['Column1'].mean()\n",
        "\n",
        "print(\"Mean of Column1:\", mean_value)"
      ],
      "metadata": {
        "colab": {
          "base_uri": "https://localhost:8080/"
        },
        "id": "_gmK2K8C_aMP",
        "outputId": "4058f6c9-3dcb-48e9-822f-33eaea8af393"
      },
      "execution_count": 2,
      "outputs": [
        {
          "output_type": "stream",
          "name": "stdout",
          "text": [
            "Mean of Column1: 30.0\n"
          ]
        }
      ]
    },
    {
      "cell_type": "code",
      "source": [
        "import matplotlib.pyplot as plt\n",
        "\n",
        "# Example data\n",
        "x = [1, 2, 3, 4, 5]\n",
        "y = [5, 7, 4, 6, 8]\n",
        "\n",
        "# Create scatter plot\n",
        "plt.scatter(x, y, color='blue', marker='o')\n",
        "\n",
        "# Add labels and title\n",
        "plt.xlabel('X-axis')\n",
        "plt.ylabel('Y-axis')\n",
        "plt.title('Simple Scatter Plot')\n",
        "\n",
        "# Show plot\n",
        "plt.show()"
      ],
      "metadata": {
        "colab": {
          "base_uri": "https://localhost:8080/",
          "height": 472
        },
        "id": "6neY7ve8_cU3",
        "outputId": "285eef3b-f520-4103-a7c4-bb2e3b148ac5"
      },
      "execution_count": 3,
      "outputs": [
        {
          "output_type": "display_data",
          "data": {
            "text/plain": [
              "<Figure size 640x480 with 1 Axes>"
            ],
            "image/png": "[encoded data removed]"
          },
          "metadata": {}
        }
      ]
    },
    {
      "cell_type": "code",
      "source": [
        "import pandas as pd\n",
        "import seaborn as sns\n",
        "import matplotlib.pyplot as plt\n",
        "\n",
        "# Example DataFrame\n",
        "data = {\n",
        "    'Math': [90, 80, 70, 60, 50],\n",
        "    'Science': [88, 76, 70, 65, 60],\n",
        "    'English': [75, 85, 78, 70, 65]\n",
        "}\n",
        "df = pd.DataFrame(data)\n",
        "\n",
        "# Calculate the correlation matrix\n",
        "corr_matrix = df.corr()\n",
        "\n",
        "# Plot the heatmap\n",
        "sns.heatmap(corr_matrix, annot=True, cmap='coolwarm', fmt=\".2f\")\n",
        "\n",
        "# Add title\n",
        "plt.title('Correlation Matrix Heatmap')\n",
        "\n",
        "# Show plot\n",
        "plt.show()"
      ],
      "metadata": {
        "colab": {
          "base_uri": "https://localhost:8080/",
          "height": 452
        },
        "id": "xOIoFGn0_gj3",
        "outputId": "af93c93a-8685-48e2-84af-9c35334dcb51"
      },
      "execution_count": 4,
      "outputs": [
        {
          "output_type": "display_data",
          "data": {
            "text/plain": [
              "<Figure size 640x480 with 2 Axes>"
            ],
            "image/png": "[encoded data removed]"
          },
          "metadata": {}
        }
      ]
    },
    {
      "cell_type": "code",
      "source": [
        "import plotly.express as px\n",
        "\n",
        "# Example data\n",
        "data = {\n",
        "    'Category': ['A', 'B', 'C', 'D'],\n",
        "    'Values': [23, 45, 12, 34]\n",
        "}\n",
        "\n",
        "# Create a DataFrame\n",
        "import pandas as pd\n",
        "df = pd.DataFrame(data)\n",
        "\n",
        "# Generate bar plot\n",
        "fig = px.bar(df, x='Category', y='Values', title='Simple Bar Plot')\n",
        "\n",
        "# Show plot\n",
        "fig.show()"
      ],
      "metadata": {
        "colab": {
          "base_uri": "https://localhost:8080/",
          "height": 542
        },
        "id": "61nJhkAw_wqv",
        "outputId": "4f97ea57-35bc-44a1-c520-d5f18440aa4d"
      },
      "execution_count": 5,
      "outputs": [
        {
          "output_type": "display_data",
          "data": {
            "text/html": [
              "<html>\n",
              "<head><meta charset=\"utf-8\" /></head>\n",
              "<body>\n",
              "    <div>            <script src=\"https://cdnjs.cloudflare.com/ajax/libs/mathjax/2.7.5/MathJax.js?config=TeX-AMS-MML_SVG\"></script><script type=\"text/javascript\">if (window.MathJax && window.MathJax.Hub && window.MathJax.Hub.Config) {window.MathJax.Hub.Config({SVG: {font: \"STIX-Web\"}});}</script>                <script type=\"text/javascript\">window.PlotlyConfig = {MathJaxConfig: 'local'};</script>\n",
              "        <script charset=\"utf-8\" src=\"https://cdn.plot.ly/plotly-2.35.2.min.js\"></script>                <div id=\"c2dcb901-3d7e-480c-a015-cfbc90497e2d\" class=\"plotly-graph-div\" style=\"height:525px; width:100%;\"></div>            <script type=\"text/javascript\">                                    window.PLOTLYENV=window.PLOTLYENV || {};                                    if (document.getElementById(\"c2dcb901-3d7e-480c-a015-cfbc90497e2d\")) {                    Plotly.newPlot(                        \"c2dcb901-3d7e-480c-a015-cfbc90497e2d\",                        [{\"alignmentgroup\":\"True\",\"hovertemplate\":\"Category=%{x}\\u003cbr\\u003eValues=%{y}\\u003cextra\\u003e\\u003c\\u002fextra\\u003e\",\"legendgroup\":\"\",\"marker\":{\"color\":\"#636efa\",\"pattern\":{\"shape\":\"\"}},\"name\":\"\",\"offsetgroup\":\"\",\"orientation\":\"v\",\"showlegend\":false,\"textposition\":\"auto\",\"x\":[\"A\",\"B\",\"C\",\"D\"],\"xaxis\":\"x\",\"y\":[23,45,12,34],\"yaxis\":\"y\",\"type\":\"bar\"}],                        {\"template\":{\"data\":{\"histogram2dcontour\":[{\"type\":\"histogram2dcontour\",\"colorbar\":{\"outlinewidth\":0,\"ticks\":\"\"},\"colorscale\":[[0.0,\"#0d0887\"],[0.1111111111111111,\"#46039f\"],[0.2222222222222222,\"#7201a8\"],[0.3333333333333333,\"#9c179e\"],[0.4444444444444444,\"#bd3786\"],[0.5555555555555556,\"#d8576b\"],[0.6666666666666666,\"#ed7953\"],[0.7777777777777778,\"#fb9f3a\"],[0.8888888888888888,\"#fdca26\"],[1.0,\"#f0f921\"]]}],\"choropleth\":[{\"type\":\"choropleth\",\"colorbar\":{\"outlinewidth\":0,\"ticks\":\"\"}}],\"histogram2d\":[{\"type\":\"histogram2d\",\"colorbar\":{\"outlinewidth\":0,\"ticks\":\"\"},\"colorscale\":[[0.0,\"#0d0887\"],[0.1111111111111111,\"#46039f\"],[0.2222222222222222,\"#7201a8\"],[0.3333333333333333,\"#9c179e\"],[0.4444444444444444,\"#bd3786\"],[0.5555555555555556,\"#d8576b\"],[0.6666666666666666,\"#ed7953\"],[0.7777777777777778,\"#fb9f3a\"],[0.8888888888888888,\"#fdca26\"],[1.0,\"#f0f921\"]]}],\"heatmap\":[{\"type\":\"heatmap\",\"colorbar\":{\"outlinewidth\":0,\"ticks\":\"\"},\"colorscale\":[[0.0,\"#0d0887\"],[0.1111111111111111,\"#46039f\"],[0.2222222222222222,\"#7201a8\"],[0.3333333333333333,\"#9c179e\"],[0.4444444444444444,\"#bd3786\"],[0.5555555555555556,\"#d8576b\"],[0.6666666666666666,\"#ed7953\"],[0.7777777777777778,\"#fb9f3a\"],[0.8888888888888888,\"#fdca26\"],[1.0,\"#f0f921\"]]}],\"heatmapgl\":[{\"type\":\"heatmapgl\",\"colorbar\":{\"outlinewidth\":0,\"ticks\":\"\"},\"colorscale\":[[0.0,\"#0d0887\"],[0.1111111111111111,\"#46039f\"],[0.2222222222222222,\"#7201a8\"],[0.3333333333333333,\"#9c179e\"],[0.4444444444444444,\"#bd3786\"],[0.5555555555555556,\"#d8576b\"],[0.6666666666666666,\"#ed7953\"],[0.7777777777777778,\"#fb9f3a\"],[0.8888888888888888,\"#fdca26\"],[1.0,\"#f0f921\"]]}],\"contourcarpet\":[{\"type\":\"contourcarpet\",\"colorbar\":{\"outlinewidth\":0,\"ticks\":\"\"}}],\"contour\":[{\"type\":\"contour\",\"colorbar\":{\"outlinewidth\":0,\"ticks\":\"\"},\"colorscale\":[[0.0,\"#0d0887\"],[0.1111111111111111,\"#46039f\"],[0.2222222222222222,\"#7201a8\"],[0.3333333333333333,\"#9c179e\"],[0.4444444444444444,\"#bd3786\"],[0.5555555555555556,\"#d8576b\"],[0.6666666666666666,\"#ed7953\"],[0.7777777777777778,\"#fb9f3a\"],[0.8888888888888888,\"#fdca26\"],[1.0,\"#f0f921\"]]}],\"surface\":[{\"type\":\"surface\",\"colorbar\":{\"outlinewidth\":0,\"ticks\":\"\"},\"colorscale\":[[0.0,\"#0d0887\"],[0.1111111111111111,\"#46039f\"],[0.2222222222222222,\"#7201a8\"],[0.3333333333333333,\"#9c179e\"],[0.4444444444444444,\"#bd3786\"],[0.5555555555555556,\"#d8576b\"],[0.6666666666666666,\"#ed7953\"],[0.7777777777777778,\"#fb9f3a\"],[0.8888888888888888,\"#fdca26\"],[1.0,\"#f0f921\"]]}],\"mesh3d\":[{\"type\":\"mesh3d\",\"colorbar\":{\"outlinewidth\":0,\"ticks\":\"\"}}],\"scatter\":[{\"fillpattern\":{\"fillmode\":\"overlay\",\"size\":10,\"solidity\":0.2},\"type\":\"scatter\"}],\"parcoords\":[{\"type\":\"parcoords\",\"line\":{\"colorbar\":{\"outlinewidth\":0,\"ticks\":\"\"}}}],\"scatterpolargl\":[{\"type\":\"scatterpolargl\",\"marker\":{\"colorbar\":{\"outlinewidth\":0,\"ticks\":\"\"}}}],\"bar\":[{\"error_x\":{\"color\":\"#2a3f5f\"},\"error_y\":{\"color\":\"#2a3f5f\"},\"marker\":{\"line\":{\"color\":\"#E5ECF6\",\"width\":0.5},\"pattern\":{\"fillmode\":\"overlay\",\"size\":10,\"solidity\":0.2}},\"type\":\"bar\"}],\"scattergeo\":[{\"type\":\"scattergeo\",\"marker\":{\"colorbar\":{\"outlinewidth\":0,\"ticks\":\"\"}}}],\"scatterpolar\":[{\"type\":\"scatterpolar\",\"marker\":{\"colorbar\":{\"outlinewidth\":0,\"ticks\":\"\"}}}],\"histogram\":[{\"marker\":{\"pattern\":{\"fillmode\":\"overlay\",\"size\":10,\"solidity\":0.2}},\"type\":\"histogram\"}],\"scattergl\":[{\"type\":\"scattergl\",\"marker\":{\"colorbar\":{\"outlinewidth\":0,\"ticks\":\"\"}}}],\"scatter3d\":[{\"type\":\"scatter3d\",\"line\":{\"colorbar\":{\"outlinewidth\":0,\"ticks\":\"\"}},\"marker\":{\"colorbar\":{\"outlinewidth\":0,\"ticks\":\"\"}}}],\"scattermapbox\":[{\"type\":\"scattermapbox\",\"marker\":{\"colorbar\":{\"outlinewidth\":0,\"ticks\":\"\"}}}],\"scatterternary\":[{\"type\":\"scatterternary\",\"marker\":{\"colorbar\":{\"outlinewidth\":0,\"ticks\":\"\"}}}],\"scattercarpet\":[{\"type\":\"scattercarpet\",\"marker\":{\"colorbar\":{\"outlinewidth\":0,\"ticks\":\"\"}}}],\"carpet\":[{\"aaxis\":{\"endlinecolor\":\"#2a3f5f\",\"gridcolor\":\"white\",\"linecolor\":\"white\",\"minorgridcolor\":\"white\",\"startlinecolor\":\"#2a3f5f\"},\"baxis\":{\"endlinecolor\":\"#2a3f5f\",\"gridcolor\":\"white\",\"linecolor\":\"white\",\"minorgridcolor\":\"white\",\"startlinecolor\":\"#2a3f5f\"},\"type\":\"carpet\"}],\"table\":[{\"cells\":{\"fill\":{\"color\":\"#EBF0F8\"},\"line\":{\"color\":\"white\"}},\"header\":{\"fill\":{\"color\":\"#C8D4E3\"},\"line\":{\"color\":\"white\"}},\"type\":\"table\"}],\"barpolar\":[{\"marker\":{\"line\":{\"color\":\"#E5ECF6\",\"width\":0.5},\"pattern\":{\"fillmode\":\"overlay\",\"size\":10,\"solidity\":0.2}},\"type\":\"barpolar\"}],\"pie\":[{\"automargin\":true,\"type\":\"pie\"}]},\"layout\":{\"autotypenumbers\":\"strict\",\"colorway\":[\"#636efa\",\"#EF553B\",\"#00cc96\",\"#ab63fa\",\"#FFA15A\",\"#19d3f3\",\"#FF6692\",\"#B6E880\",\"#FF97FF\",\"#FECB52\"],\"font\":{\"color\":\"#2a3f5f\"},\"hovermode\":\"closest\",\"hoverlabel\":{\"align\":\"left\"},\"paper_bgcolor\":\"white\",\"plot_bgcolor\":\"#E5ECF6\",\"polar\":{\"bgcolor\":\"#E5ECF6\",\"angularaxis\":{\"gridcolor\":\"white\",\"linecolor\":\"white\",\"ticks\":\"\"},\"radialaxis\":{\"gridcolor\":\"white\",\"linecolor\":\"white\",\"ticks\":\"\"}},\"ternary\":{\"bgcolor\":\"#E5ECF6\",\"aaxis\":{\"gridcolor\":\"white\",\"linecolor\":\"white\",\"ticks\":\"\"},\"baxis\":{\"gridcolor\":\"white\",\"linecolor\":\"white\",\"ticks\":\"\"},\"caxis\":{\"gridcolor\":\"white\",\"linecolor\":\"white\",\"ticks\":\"\"}},\"coloraxis\":{\"colorbar\":{\"outlinewidth\":0,\"ticks\":\"\"}},\"colorscale\":{\"sequential\":[[0.0,\"#0d0887\"],[0.1111111111111111,\"#46039f\"],[0.2222222222222222,\"#7201a8\"],[0.3333333333333333,\"#9c179e\"],[0.4444444444444444,\"#bd3786\"],[0.5555555555555556,\"#d8576b\"],[0.6666666666666666,\"#ed7953\"],[0.7777777777777778,\"#fb9f3a\"],[0.8888888888888888,\"#fdca26\"],[1.0,\"#f0f921\"]],\"sequentialminus\":[[0.0,\"#0d0887\"],[0.1111111111111111,\"#46039f\"],[0.2222222222222222,\"#7201a8\"],[0.3333333333333333,\"#9c179e\"],[0.4444444444444444,\"#bd3786\"],[0.5555555555555556,\"#d8576b\"],[0.6666666666666666,\"#ed7953\"],[0.7777777777777778,\"#fb9f3a\"],[0.8888888888888888,\"#fdca26\"],[1.0,\"#f0f921\"]],\"diverging\":[[0,\"#8e0152\"],[0.1,\"#c51b7d\"],[0.2,\"#de77ae\"],[0.3,\"#f1b6da\"],[0.4,\"#fde0ef\"],[0.5,\"#f7f7f7\"],[0.6,\"#e6f5d0\"],[0.7,\"#b8e186\"],[0.8,\"#7fbc41\"],[0.9,\"#4d9221\"],[1,\"#276419\"]]},\"xaxis\":{\"gridcolor\":\"white\",\"linecolor\":\"white\",\"ticks\":\"\",\"title\":{\"standoff\":15},\"zerolinecolor\":\"white\",\"automargin\":true,\"zerolinewidth\":2},\"yaxis\":{\"gridcolor\":\"white\",\"linecolor\":\"white\",\"ticks\":\"\",\"title\":{\"standoff\":15},\"zerolinecolor\":\"white\",\"automargin\":true,\"zerolinewidth\":2},\"scene\":{\"xaxis\":{\"backgroundcolor\":\"#E5ECF6\",\"gridcolor\":\"white\",\"linecolor\":\"white\",\"showbackground\":true,\"ticks\":\"\",\"zerolinecolor\":\"white\",\"gridwidth\":2},\"yaxis\":{\"backgroundcolor\":\"#E5ECF6\",\"gridcolor\":\"white\",\"linecolor\":\"white\",\"showbackground\":true,\"ticks\":\"\",\"zerolinecolor\":\"white\",\"gridwidth\":2},\"zaxis\":{\"backgroundcolor\":\"#E5ECF6\",\"gridcolor\":\"white\",\"linecolor\":\"white\",\"showbackground\":true,\"ticks\":\"\",\"zerolinecolor\":\"white\",\"gridwidth\":2}},\"shapedefaults\":{\"line\":{\"color\":\"#2a3f5f\"}},\"annotationdefaults\":{\"arrowcolor\":\"#2a3f5f\",\"arrowhead\":0,\"arrowwidth\":1},\"geo\":{\"bgcolor\":\"white\",\"landcolor\":\"#E5ECF6\",\"subunitcolor\":\"white\",\"showland\":true,\"showlakes\":true,\"lakecolor\":\"white\"},\"title\":{\"x\":0.05},\"mapbox\":{\"style\":\"light\"}}},\"xaxis\":{\"anchor\":\"y\",\"domain\":[0.0,1.0],\"title\":{\"text\":\"Category\"}},\"yaxis\":{\"anchor\":\"x\",\"domain\":[0.0,1.0],\"title\":{\"text\":\"Values\"}},\"legend\":{\"tracegroupgap\":0},\"title\":{\"text\":\"Simple Bar Plot\"},\"barmode\":\"relative\"},                        {\"responsive\": true}                    ).then(function(){\n",
              "                            \n",
              "var gd = document.getElementById('c2dcb901-3d7e-480c-a015-cfbc90497e2d');\n",
              "var x = new MutationObserver(function (mutations, observer) {{\n",
              "        var display = window.getComputedStyle(gd).display;\n",
              "        if (!display || display === 'none') {{\n",
              "            console.log([gd, 'removed!']);\n",
              "            Plotly.purge(gd);\n",
              "            observer.disconnect();\n",
              "        }}\n",
              "}});\n",
              "\n",
              "// Listen for the removal of the full notebook cells\n",
              "var notebookContainer = gd.closest('#notebook-container');\n",
              "if (notebookContainer) {{\n",
              "    x.observe(notebookContainer, {childList: true});\n",
              "}}\n",
              "\n",
              "// Listen for the clearing of the current output cell\n",
              "var outputEl = gd.closest('.output');\n",
              "if (outputEl) {{\n",
              "    x.observe(outputEl, {childList: true});\n",
              "}}\n",
              "\n",
              "                        })                };                            </script>        </div>\n",
              "</body>\n",
              "</html>"
            ]
          },
          "metadata": {}
        }
      ]
    },
    {
      "cell_type": "code",
      "source": [
        "import pandas as pd\n",
        "\n",
        "# Create DataFrame\n",
        "df = pd.DataFrame({\n",
        "    'Name': ['Alice', 'Bob', 'Charlie'],\n",
        "    'Score': [85, 90, 78]\n",
        "})\n",
        "\n",
        "# Add a new column based on the 'Score' column\n",
        "# Example: classify scores as Pass/Fail\n",
        "df['Result'] = df['Score'].apply(lambda x: 'Pass' if x >= 80 else 'Fail')\n",
        "\n",
        "# Display the updated DataFrame\n",
        "print(df)"
      ],
      "metadata": {
        "colab": {
          "base_uri": "https://localhost:8080/"
        },
        "id": "McC30zaZ_2kv",
        "outputId": "89e17b7f-d1de-4299-c8ae-ee7910873037"
      },
      "execution_count": 6,
      "outputs": [
        {
          "output_type": "stream",
          "name": "stdout",
          "text": [
            "      Name  Score Result\n",
            "0    Alice     85   Pass\n",
            "1      Bob     90   Pass\n",
            "2  Charlie     78   Fail\n"
          ]
        }
      ]
    },
    {
      "cell_type": "code",
      "source": [
        "import numpy as np\n",
        "\n",
        "# Define two NumPy arrays\n",
        "arr1 = np.array([1, 2, 3, 4])\n",
        "arr2 = np.array([10, 20, 30, 40])\n",
        "\n",
        "# Element-wise multiplication\n",
        "result = arr1 * arr2\n",
        "\n",
        "# Display the result\n",
        "print(\"Element-wise multiplication:\", result)"
      ],
      "metadata": {
        "colab": {
          "base_uri": "https://localhost:8080/"
        },
        "id": "jETiAseZ_6nQ",
        "outputId": "420dfe6e-49a8-4d59-b2f9-79ae8beca68c"
      },
      "execution_count": 7,
      "outputs": [
        {
          "output_type": "stream",
          "name": "stdout",
          "text": [
            "Element-wise multiplication: [ 10  40  90 160]\n"
          ]
        }
      ]
    },
    {
      "cell_type": "code",
      "source": [
        "import matplotlib.pyplot as plt\n",
        "\n",
        "# Example data\n",
        "x = [1, 2, 3, 4, 5]\n",
        "y1 = [2, 3, 5, 7, 11]\n",
        "y2 = [1, 4, 6, 8, 10]\n",
        "\n",
        "# Create line plot with multiple lines\n",
        "plt.plot(x, y1, label='Line 1', color='blue', marker='o')\n",
        "plt.plot(x, y2, label='Line 2', color='green', marker='x')\n",
        "\n",
        "# Add labels, title, and legend\n",
        "plt.xlabel('X-axis')\n",
        "plt.ylabel('Y-axis')\n",
        "plt.title('Line Plot with Multiple Lines')\n",
        "plt.legend()\n",
        "\n",
        "# Show plot\n",
        "plt.show()"
      ],
      "metadata": {
        "colab": {
          "base_uri": "https://localhost:8080/",
          "height": 472
        },
        "id": "tKs1pC11AAZX",
        "outputId": "ab268136-ec54-4eb9-ba6c-c84af67b9518"
      },
      "execution_count": 8,
      "outputs": [
        {
          "output_type": "display_data",
          "data": {
            "text/plain": [
              "<Figure size 640x480 with 1 Axes>"
            ],
            "image/png": "[encoded data removed]"
          },
          "metadata": {}
        }
      ]
    },
    {
      "cell_type": "code",
      "source": [
        "import pandas as pd\n",
        "import numpy as np\n",
        "\n",
        "# Create a sample DataFrame\n",
        "data = {'col1': np.random.randint(1, 20, 10),\n",
        "        'col2': np.random.rand(10),\n",
        "        'col3': ['A', 'B', 'A', 'C', 'B', 'C', 'A', 'B', 'C', 'A']}\n",
        "df = pd.DataFrame(data)\n",
        "\n",
        "# Define the threshold\n",
        "threshold = 10\n",
        "\n",
        "# Filter rows where 'col1' is greater than the threshold\n",
        "filtered_df = df[df['col1'] > threshold]\n",
        "\n",
        "# Print the original and filtered DataFrames\n",
        "print(\"Original DataFrame:\\n\", df)\n",
        "print(\"\\nFiltered DataFrame (col1 > {}):\\n\".format(threshold), filtered_df)"
      ],
      "metadata": {
        "colab": {
          "base_uri": "https://localhost:8080/"
        },
        "id": "gjJg_zQ-AGtH",
        "outputId": "43bc8896-5814-4bfc-9e12-c97d9af311ee"
      },
      "execution_count": 9,
      "outputs": [
        {
          "output_type": "stream",
          "name": "stdout",
          "text": [
            "Original DataFrame:\n",
            "    col1      col2 col3\n",
            "0     8  0.763978    A\n",
            "1    16  0.008250    B\n",
            "2     3  0.032431    A\n",
            "3     2  0.611708    C\n",
            "4    16  0.505601    B\n",
            "5    11  0.816476    C\n",
            "6    14  0.881058    A\n",
            "7     4  0.006632    B\n",
            "8     3  0.218113    C\n",
            "9     1  0.884067    A\n",
            "\n",
            "Filtered DataFrame (col1 > 10):\n",
            "    col1      col2 col3\n",
            "1    16  0.008250    B\n",
            "4    16  0.505601    B\n",
            "5    11  0.816476    C\n",
            "6    14  0.881058    A\n"
          ]
        }
      ]
    },
    {
      "cell_type": "code",
      "source": [
        "import seaborn as sns\n",
        "import matplotlib.pyplot as plt\n",
        "\n",
        "# Example data\n",
        "data = [12, 15, 13, 17, 19, 18, 21, 22, 23, 20, 18, 16, 14, 13, 15]\n",
        "\n",
        "# Create histogram\n",
        "sns.histplot(data, bins=10, kde=True, color='skyblue')\n",
        "\n",
        "# Add labels and title\n",
        "plt.xlabel('Value')\n",
        "plt.ylabel('Frequency')\n",
        "plt.title('Distribution Histogram')\n",
        "\n",
        "# Show plot\n",
        "plt.show()"
      ],
      "metadata": {
        "colab": {
          "base_uri": "https://localhost:8080/",
          "height": 472
        },
        "id": "S3mbXsb8AK-R",
        "outputId": "f9ffad6b-295f-4d20-ad0f-9caa63fad482"
      },
      "execution_count": 10,
      "outputs": [
        {
          "output_type": "display_data",
          "data": {
            "text/plain": [
              "<Figure size 640x480 with 1 Axes>"
            ],
            "image/png": "[encoded data removed]"
          },
          "metadata": {}
        }
      ]
    },
    {
      "cell_type": "code",
      "source": [
        "import numpy as np\n",
        "\n",
        "# Define two matrices\n",
        "A = np.array([[1, 2],\n",
        "              [3, 4]])\n",
        "\n",
        "B = np.array([[5, 6],\n",
        "              [7, 8]])\n",
        "\n",
        "# Matrix multiplication\n",
        "C = np.dot(A, B)\n",
        "\n",
        "# Or using the @ operator (Python 3.5+)\n",
        "D = A @ B\n",
        "\n",
        "print(\"Result using np.dot:\\n\", C)\n",
        "print(\"Result using @ operator:\\n\", D)"
      ],
      "metadata": {
        "colab": {
          "base_uri": "https://localhost:8080/"
        },
        "id": "AqoF4AjJAPL4",
        "outputId": "fa44826b-d82e-4879-ced6-5dbf7c321d16"
      },
      "execution_count": 11,
      "outputs": [
        {
          "output_type": "stream",
          "name": "stdout",
          "text": [
            "Result using np.dot:\n",
            " [[19 22]\n",
            " [43 50]]\n",
            "Result using @ operator:\n",
            " [[19 22]\n",
            " [43 50]]\n"
          ]
        }
      ]
    },
    {
      "cell_type": "code",
      "source": [
        "import pandas as pd\n",
        "import numpy as np\n",
        "\n",
        "# Create a dummy CSV file for demonstration purposes\n",
        "# If you have your actual CSV file, you can skip this part\n",
        "data = {'colA': [1, 2, 3, 4, 5],\n",
        "        'colB': ['X', 'Y', 'Z', 'X', 'Y']}\n",
        "dummy_df = pd.DataFrame(data)\n",
        "dummy_df.to_csv('your_file.csv', index=False)\n",
        "# End of dummy file creation\n",
        "\n",
        "# Load the CSV file into a DataFrame\n",
        "# Ensure 'your_file.csv' exists in the same directory\n",
        "# or provide the full path to your actual file.\n",
        "try:\n",
        "    df = pd.read_csv('your_file.csv')\n",
        "\n",
        "    # Display the first 5 rows\n",
        "    print(df.head())\n",
        "except FileNotFoundError:\n",
        "    print(\"Error: 'your_file.csv' not found. Please ensure the file exists and the path is correct.\")"
      ],
      "metadata": {
        "colab": {
          "base_uri": "https://localhost:8080/"
        },
        "id": "ZuvphzCHBgCH",
        "outputId": "c5175de7-582b-4fa5-e2f3-ec3d8de824ef"
      },
      "execution_count": 16,
      "outputs": [
        {
          "output_type": "stream",
          "name": "stdout",
          "text": [
            "   colA colB\n",
            "0     1    X\n",
            "1     2    Y\n",
            "2     3    Z\n",
            "3     4    X\n",
            "4     5    Y\n"
          ]
        }
      ]
    },
    {
      "cell_type": "code",
      "source": [
        "import plotly.graph_objs as go\n",
        "import plotly.offline as pyo\n",
        "\n",
        "# Sample data\n",
        "x = [1, 2, 3, 4, 5]\n",
        "y = [10, 11, 12, 13, 14]\n",
        "z = [5, 6, 7, 8, 9]\n",
        "\n",
        "# Create a 3D scatter plot\n",
        "scatter = go.Scatter3d(\n",
        "    x=x,\n",
        "    y=y,\n",
        "    z=z,\n",
        "    mode='markers',\n",
        "    marker=dict(\n",
        "        size=8,\n",
        "        color=z,                # Color by z value\n",
        "        colorscale='Viridis',   # Choose a colorscale\n",
        "        opacity=0.8\n",
        "    )\n",
        ")\n",
        "\n",
        "layout = go.Layout(\n",
        "    scene=dict(\n",
        "        xaxis_title='X Axis',\n",
        "        yaxis_title='Y Axis',\n",
        "        zaxis_title='Z Axis'\n",
        "    ),\n",
        "    title='3D Scatter Plot Example'\n",
        ")\n",
        "\n",
        "fig = go.Figure(data=[scatter], layout=layout)\n",
        "\n",
        "# To display in a notebook or offline\n",
        "pyo.plot(fig)"
      ],
      "metadata": {
        "colab": {
          "base_uri": "https://localhost:8080/",
          "height": 36
        },
        "id": "1lJWC5q3BjeH",
        "outputId": "4cd3109c-f351-44db-e5d1-39eecde2c9fc"
      },
      "execution_count": 17,
      "outputs": [
        {
          "output_type": "execute_result",
          "data": {
            "text/plain": [
              "'temp-plot.html'"
            ],
            "application/vnd.google.colaboratory.intrinsic+json": {
              "type": "string"
            }
          },
          "metadata": {},
          "execution_count": 17
        }
      ]
    }
  ]
}